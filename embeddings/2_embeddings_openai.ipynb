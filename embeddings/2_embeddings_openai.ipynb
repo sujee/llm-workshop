{
  "cells": [
    {
      "cell_type": "markdown",
      "metadata": {
        "id": "n-aZr-Nn07KI"
      },
      "source": [
        "# Embeddings Using OpenAI Model\n",
        "\n",
        "[![Open In Colab](https://colab.research.google.com/assets/colab-badge.svg)](https://colab.research.google.com/github/sujee/llm-workshop/blob/main/embeddings/2_embeddings_openai.ipynb)\n",
        "\n",
        "https://platform.openai.com/docs/guides/embeddings/use-cases\n",
        "\n",
        "![](../media/embeddings-2.png)\n",
        "\n"
      ]
    },
    {
      "cell_type": "markdown",
      "metadata": {
        "id": "DohczcgU0_PH"
      },
      "source": [
        "## Colab Setup"
      ]
    },
    {
      "cell_type": "code",
      "execution_count": 1,
      "metadata": {
        "colab": {
          "base_uri": "https://localhost:8080/"
        },
        "id": "zuGkHS7m1E6i",
        "outputId": "48575882-1036-4c47-c02f-60188da9ab96"
      },
      "outputs": [
        {
          "name": "stdout",
          "output_type": "stream",
          "text": [
            "NOT running in Colab\n"
          ]
        }
      ],
      "source": [
        "# are we running in Colab?\n",
        "import os\n",
        "\n",
        "if os.getenv(\"COLAB_RELEASE_TAG\"):\n",
        "   print(\"Running in Colab\")\n",
        "   RUNNING_IN_COLAB = True\n",
        "else:\n",
        "   print(\"NOT running in Colab\")\n",
        "   RUNNING_IN_COLAB = False\n",
        "\n",
        "if RUNNING_IN_COLAB:\n",
        "   ! pip install  --default-timeout=100 openai   python-dotenv\n"
      ]
    },
    {
      "cell_type": "markdown",
      "metadata": {
        "id": "Obg9fnMK07KK"
      },
      "source": [
        "## Step-1: Load Settings"
      ]
    },
    {
      "cell_type": "code",
      "execution_count": 2,
      "metadata": {
        "colab": {
          "base_uri": "https://localhost:8080/"
        },
        "id": "Lb9NdvIE07KL",
        "outputId": "5327dda6-131a-4088-d5a7-87a54a3c67e9"
      },
      "outputs": [
        {
          "name": "stdout",
          "output_type": "stream",
          "text": [
            "✅ 'OPENAI_API_KEY' found\n"
          ]
        }
      ],
      "source": [
        "## Load Settings from .env file\n",
        "from dotenv import find_dotenv, dotenv_values\n",
        "\n",
        "# _ = load_dotenv(find_dotenv()) # read local .env file\n",
        "config = dotenv_values(find_dotenv())\n",
        "\n",
        "# debug\n",
        "# print (config)\n",
        "\n",
        "OPENAI_API_KEY = config.get(\"OPENAI_API_KEY\")\n",
        "\n",
        "if OPENAI_API_KEY:\n",
        "    print (\"✅ 'OPENAI_API_KEY' found\")\n",
        "else:\n",
        "    raise Exception (\"❌ 'OPENAI_API_KEY' is not set.  Please set it above to continue...\")"
      ]
    },
    {
      "cell_type": "markdown",
      "metadata": {
        "id": "jgOCWX1P07KN"
      },
      "source": [
        "## Step-2: Initialize OpenAI Client"
      ]
    },
    {
      "cell_type": "code",
      "execution_count": 3,
      "metadata": {
        "colab": {
          "base_uri": "https://localhost:8080/"
        },
        "id": "Sbb8hi2d07KO",
        "outputId": "03723632-1025-48c0-d637-90cab7735641"
      },
      "outputs": [
        {
          "name": "stdout",
          "output_type": "stream",
          "text": [
            "✅ OpenAI client initialized\n"
          ]
        }
      ],
      "source": [
        "from openai import OpenAI\n",
        "\n",
        "client = OpenAI(api_key=OPENAI_API_KEY)\n",
        "print (\"✅ OpenAI client initialized\")"
      ]
    },
    {
      "cell_type": "markdown",
      "metadata": {
        "id": "fP5UdC9B07KO"
      },
      "source": [
        "## Step-3: Embeddings"
      ]
    },
    {
      "cell_type": "code",
      "execution_count": 4,
      "metadata": {
        "colab": {
          "base_uri": "https://localhost:8080/"
        },
        "id": "ObyBUr1207KO",
        "outputId": "897821b6-0041-4759-f7ab-4e64e6c67200"
      },
      "outputs": [
        {
          "name": "stdout",
          "output_type": "stream",
          "text": [
            "word:  apple\n",
            "embedding model:  text-embedding-3-small\n",
            "embedding length:  1536\n",
            "first few embeddings:  [0.01764063909649849, -0.016817327588796616, -0.04184354469180107, 0.019008787348866463, -0.0018100723391398787, -0.026902882382273674, 0.007264504674822092, 0.02287108078598976, -0.01952940970659256, -0.016732575371861458]\n"
          ]
        }
      ],
      "source": [
        "word = 'apple'\n",
        "model = 'text-embedding-3-small'\n",
        "# model = 'text-embedding-3-large'\n",
        "embedding = client.embeddings.create(input = [word], model=model).data[0].embedding\n",
        "\n",
        "print ('word: ', word)\n",
        "print ('embedding model: ', model)\n",
        "print ('embedding length: ', len(embedding))\n",
        "print ('first few embeddings: ', embedding[:10])"
      ]
    }
  ],
  "metadata": {
    "colab": {
      "provenance": []
    },
    "kernelspec": {
      "display_name": "llm-workshop-2",
      "language": "python",
      "name": "python3"
    },
    "language_info": {
      "codemirror_mode": {
        "name": "ipython",
        "version": 3
      },
      "file_extension": ".py",
      "mimetype": "text/x-python",
      "name": "python",
      "nbconvert_exporter": "python",
      "pygments_lexer": "ipython3",
      "version": "3.11.10"
    }
  },
  "nbformat": 4,
  "nbformat_minor": 0
}
