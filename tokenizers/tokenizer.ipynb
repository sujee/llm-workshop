{
 "cells": [
  {
   "cell_type": "markdown",
   "metadata": {},
   "source": [
    "# Tokenizers\n",
    "\n",
    "[![Open In Colab](https://colab.research.google.com/assets/colab-badge.svg)](https://colab.research.google.com/github/sujee/llm-workshop/blob/main/tokenizers/tokenizer.ipynb)\n",
    "\n",
    "Let's try some tokenizers\n",
    "\n",
    "TODO: Try switching the model and watching the tokenizer output"
   ]
  },
  {
   "cell_type": "code",
   "execution_count": 5,
   "metadata": {},
   "outputs": [
    {
     "name": "stdout",
     "output_type": "stream",
     "text": [
      "Words [count: 8] : ['Happyness', 'is', 'where', 'sun', 'shines', 'and', 'surf', 'roars']\n",
      "tokens [count: 11]: ['happy', '##ness', 'is', 'where', 'sun', 'shine', '##s', 'and', 'surf', 'roar', '##s']\n",
      "\n",
      "Encoded Text: [101, 3407, 2791, 2003, 2073, 3103, 12342, 2015, 1998, 14175, 11950, 2015, 102]\n",
      "Decoded Text: [CLS] happyness is where sun shines and surf roars [SEP]\n",
      "\n",
      "Token 0: happy, ID: 3407\n",
      "Token 1: ##ness, ID: 2791\n",
      "Token 2: is, ID: 2003\n",
      "Token 3: where, ID: 2073\n",
      "Token 4: sun, ID: 3103\n",
      "Token 5: shine, ID: 12342\n",
      "Token 6: ##s, ID: 2015\n",
      "Token 7: and, ID: 1998\n",
      "Token 8: surf, ID: 14175\n",
      "Token 9: roar, ID: 11950\n",
      "Token 10: ##s, ID: 2015\n"
     ]
    }
   ],
   "source": [
    "import os\n",
    "from transformers import AutoTokenizer\n",
    "\n",
    "os.environ['HF_ENDPOINT'] = 'https://hf-mirror.com'\n",
    "\n",
    "# Choose a tokenizer model \n",
    "model_name = \"bert-base-uncased\"\n",
    "# model_name = \"t5-base\"\n",
    "\n",
    "# Load the tokenizer associated with the chosen model\n",
    "tokenizer = AutoTokenizer.from_pretrained(model_name)\n",
    "\n",
    "# Example sentence\n",
    "# text = \"The quick brown fox jumps over the lazy dog.\"\n",
    "text = \"Happyness is where sun shines and surf roars\"\n",
    "tokens = tokenizer.tokenize(text)\n",
    "\n",
    "# Tokenize the text\n",
    "print (f\"Words [count: {len(text.split())}] : {text.split()}\")\n",
    "print (f'tokens [count: {len(tokens)}]: {tokens}')\n",
    "print()\n",
    "\n",
    "encoded_text = tokenizer.encode(text, add_special_tokens=True)\n",
    "print(\"Encoded Text:\", encoded_text)\n",
    "print(\"Decoded Text:\", tokenizer.decode(encoded_text))\n",
    "print()\n",
    "\n",
    "# Accessing individual token information\n",
    "for i, token in enumerate(tokenizer.tokenize(text)):\n",
    "    print(f\"Token {i}: {token}, ID: {tokenizer.convert_tokens_to_ids(token)}\")\n"
   ]
  }
 ],
 "metadata": {
  "kernelspec": {
   "display_name": "llm-workshop-2",
   "language": "python",
   "name": "python3"
  },
  "language_info": {
   "codemirror_mode": {
    "name": "ipython",
    "version": 3
   },
   "file_extension": ".py",
   "mimetype": "text/x-python",
   "name": "python",
   "nbconvert_exporter": "python",
   "pygments_lexer": "ipython3",
   "version": "3.11.10"
  }
 },
 "nbformat": 4,
 "nbformat_minor": 2
}
