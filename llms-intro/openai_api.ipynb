{
  "cells": [
    {
      "cell_type": "markdown",
      "metadata": {
        "id": "n-aZr-Nn07KI"
      },
      "source": [
        "# Accessing OpenAI via API\n",
        "\n",
        "https://openai.com/api/\n"
      ]
    },
    {
      "cell_type": "markdown",
      "metadata": {
        "id": "DohczcgU0_PH"
      },
      "source": [
        "## Colab Setup"
      ]
    },
    {
      "cell_type": "code",
      "execution_count": 1,
      "metadata": {
        "colab": {
          "base_uri": "https://localhost:8080/"
        },
        "id": "zuGkHS7m1E6i",
        "outputId": "48575882-1036-4c47-c02f-60188da9ab96"
      },
      "outputs": [
        {
          "name": "stdout",
          "output_type": "stream",
          "text": [
            "NOT running in Colab\n"
          ]
        }
      ],
      "source": [
        "# are we running in Colab?\n",
        "import os\n",
        "\n",
        "if os.getenv(\"COLAB_RELEASE_TAG\"):\n",
        "   print(\"Running in Colab\")\n",
        "   RUNNING_IN_COLAB = True\n",
        "else:\n",
        "   print(\"NOT running in Colab\")\n",
        "   RUNNING_IN_COLAB = False\n",
        "\n",
        "if RUNNING_IN_COLAB:\n",
        "   ! pip install  --default-timeout=100 openai   python-dotenv\n"
      ]
    },
    {
      "cell_type": "markdown",
      "metadata": {
        "id": "Obg9fnMK07KK"
      },
      "source": [
        "## Step-1: Load Settings"
      ]
    },
    {
      "cell_type": "code",
      "execution_count": 2,
      "metadata": {
        "colab": {
          "base_uri": "https://localhost:8080/"
        },
        "id": "Lb9NdvIE07KL",
        "outputId": "5327dda6-131a-4088-d5a7-87a54a3c67e9"
      },
      "outputs": [
        {
          "name": "stdout",
          "output_type": "stream",
          "text": [
            "✅ 'OPENAI_API_KEY' found\n"
          ]
        }
      ],
      "source": [
        "## Load Settings from .env file\n",
        "from dotenv import find_dotenv, dotenv_values\n",
        "\n",
        "# _ = load_dotenv(find_dotenv()) # read local .env file\n",
        "config = dotenv_values(find_dotenv())\n",
        "\n",
        "# debug\n",
        "# print (config)\n",
        "\n",
        "OPENAI_API_KEY = config.get(\"OPENAI_API_KEY\")\n",
        "\n",
        "if OPENAI_API_KEY:\n",
        "    print (\"✅ 'OPENAI_API_KEY' found\")\n",
        "else:\n",
        "    raise Exception (\"❌ 'OPENAI_API_KEY' is not set.  Please set it above to continue...\")"
      ]
    },
    {
      "cell_type": "markdown",
      "metadata": {
        "id": "jgOCWX1P07KN"
      },
      "source": [
        "## Step-2: Initialize OpenAI Client"
      ]
    },
    {
      "cell_type": "code",
      "execution_count": 3,
      "metadata": {
        "colab": {
          "base_uri": "https://localhost:8080/"
        },
        "id": "Sbb8hi2d07KO",
        "outputId": "03723632-1025-48c0-d637-90cab7735641"
      },
      "outputs": [
        {
          "name": "stdout",
          "output_type": "stream",
          "text": [
            "✅ OpenAI client initialized\n"
          ]
        }
      ],
      "source": [
        "from openai import OpenAI\n",
        "\n",
        "client = OpenAI(api_key=OPENAI_API_KEY)\n",
        "print (\"✅ OpenAI client initialized\")"
      ]
    },
    {
      "cell_type": "markdown",
      "metadata": {
        "id": "fP5UdC9B07KO"
      },
      "source": [
        "## Step-3: API call"
      ]
    },
    {
      "cell_type": "code",
      "execution_count": 4,
      "metadata": {},
      "outputs": [],
      "source": [
        "\n",
        "def generate_text(prompt, model=\"gpt-3.5-turbo\", max_tokens=100):\n",
        "    \n",
        "    response = client.chat.completions.create(\n",
        "        model=model,\n",
        "        messages=[\n",
        "            {\n",
        "                \"role\": \"system\", \n",
        "                \"content\": \"You are a helpful assistant.\"},\n",
        "            {\n",
        "                \"role\": \"user\", \n",
        "                \"content\": prompt}\n",
        "        ],\n",
        "        max_tokens=max_tokens,\n",
        "        n=1,\n",
        "        stop=None,\n",
        "        temperature=0.7,\n",
        "    )\n",
        "    return response.choices[0].message.content\n",
        "\n",
        "\n"
      ]
    },
    {
      "cell_type": "code",
      "execution_count": 5,
      "metadata": {},
      "outputs": [
        {
          "name": "stdout",
          "output_type": "stream",
          "text": [
            "Learning Python is important for several reasons. Python is a versatile programming language that is widely used in various fields such as web development, data science, artificial intelligence, and automation. Its clean syntax and readability make it a great language for beginners to learn programming concepts. Python also has a large and active community that provides ample resources and support for learners. Additionally, mastering Python can open up numerous career opportunities and enhance problem-solving skills. Overall, learning Python is a valuable skill that can benefit individuals in both their\n"
          ]
        }
      ],
      "source": [
        "prompt = \"Write a short paragraph about the importance of learning Python.\"\n",
        "generated_text = generate_text(prompt)\n",
        "print(generated_text)"
      ]
    },
    {
      "cell_type": "code",
      "execution_count": 7,
      "metadata": {},
      "outputs": [
        {
          "name": "stdout",
          "output_type": "stream",
          "text": [
            "Certainly! Here's a recipe for a healthy breakfast bowl that is both delicious and nutritious:\n",
            "\n",
            "### Quinoa Breakfast Bowl\n",
            "\n",
            "#### Ingredients:\n",
            "- 1/2 cup quinoa\n",
            "- 1 cup water\n",
            "- 1/4 teaspoon salt\n",
            "- 1/2 cup almond milk (or milk of your choice)\n",
            "- 1 tablespoon honey or maple syrup\n",
            "- 1/2 teaspoon vanilla extract\n",
            "- 1/2 teaspoon ground cinnamon\n",
            "- 1/4 cup fresh berries (such as blueberries, strawberries, or raspberries)\n",
            "- 1 small banana, sliced\n",
            "- 2 tablespoons chopped nuts (such as almonds, walnuts, or pecans)\n",
            "- 1 tablespoon chia seeds or flaxseeds\n",
            "- Optional: a dollop of Greek yogurt for added creaminess\n",
            "\n",
            "#### Instructions:\n",
            "1. **Cook the Quinoa:**\n",
            "   - Rinse the quinoa under cold water to remove any bitterness.\n",
            "   - In a medium saucepan, combine the quinoa, water, and salt. Bring to a boil over medium-high heat.\n",
            "   - Reduce the heat to low, cover, and simmer for about 15 minutes, or until the quinoa is tender and the water is absorbed.\n",
            "   - Remove from heat and let it sit, covered, for 5 minutes. Fluff with a fork.\n",
            "\n",
            "2. **Prepare the Quinoa Porridge:**\n",
            "   - In a separate saucepan, combine the cooked quinoa, almond milk, honey or maple syrup, vanilla extract, and cinnamon\n"
          ]
        }
      ],
      "source": [
        "prompt = \"Give me a recipe for a healthy breakfast\"\n",
        "generated_text = generate_text(prompt, model='gpt-4o', max_tokens=300)\n",
        "print(generated_text)"
      ]
    }
  ],
  "metadata": {
    "colab": {
      "provenance": []
    },
    "kernelspec": {
      "display_name": "llm-workshop-2",
      "language": "python",
      "name": "python3"
    },
    "language_info": {
      "codemirror_mode": {
        "name": "ipython",
        "version": 3
      },
      "file_extension": ".py",
      "mimetype": "text/x-python",
      "name": "python",
      "nbconvert_exporter": "python",
      "pygments_lexer": "ipython3",
      "version": "3.11.10"
    }
  },
  "nbformat": 4,
  "nbformat_minor": 0
}
