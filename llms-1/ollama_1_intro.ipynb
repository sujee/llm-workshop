{
 "cells": [
  {
   "cell_type": "markdown",
   "metadata": {},
   "source": [
    "# Using `Olama` Python API\n",
    "\n",
    "\n",
    "https://github.com/ollama/ollama\n",
    "\n",
    "https://github.com/ollama/ollama-python"
   ]
  },
  {
   "cell_type": "markdown",
   "metadata": {},
   "source": [
    "## Step-1: Start Olama server\n",
    "\n",
    "```bash\n",
    "ollama run llama3.2:1b\n",
    "\n",
    "```"
   ]
  },
  {
   "cell_type": "markdown",
   "metadata": {},
   "source": [
    "## Step-2: Run this code"
   ]
  },
  {
   "cell_type": "code",
   "execution_count": 3,
   "metadata": {},
   "outputs": [
    {
     "name": "stdout",
     "output_type": "stream",
     "text": [
      "The sky appears blue to us because of a phenomenon called Rayleigh scattering, named after the British physicist Lord Rayleigh. He discovered that when sunlight enters Earth's atmosphere, it encounters tiny molecules of gases such as nitrogen and oxygen.\n",
      "\n",
      "These molecules scatter the light in all directions, but they scatter shorter (blue) wavelengths more than longer (red) wavelengths. This is because the smaller particles are more effective at scattering the blue light, giving the sky its bluish color.\n",
      "\n",
      "Think of it like this: when you're on a lake or a river, the water appears blue because the sunlight is scattered in all directions by the tiny droplets of water. It's similar with the atmosphere and light. The shorter wavelengths are scattered more than the longer wavelengths, which is why the sky typically appears blue during the day.\n",
      "\n",
      "It's worth noting that at sunrise and sunset, the sky can take on a range of colors, including reds, oranges, and purples, due to the scattering of light by atmospheric particles at different angles. But in general, the sky remains blue throughout the daytime.\n"
     ]
    }
   ],
   "source": [
    "import ollama\n",
    "\n",
    "response = ollama.chat(model='llama3.2:1b', messages=[\n",
    "  {\n",
    "    'role': 'user',\n",
    "    'content': 'Why is the sky blue?',\n",
    "  },\n",
    "])\n",
    "print(response['message']['content'])"
   ]
  }
 ],
 "metadata": {
  "kernelspec": {
   "display_name": "llm-workshop-2",
   "language": "python",
   "name": "python3"
  },
  "language_info": {
   "codemirror_mode": {
    "name": "ipython",
    "version": 3
   },
   "file_extension": ".py",
   "mimetype": "text/x-python",
   "name": "python",
   "nbconvert_exporter": "python",
   "pygments_lexer": "ipython3",
   "version": "3.11.10"
  }
 },
 "nbformat": 4,
 "nbformat_minor": 2
}
