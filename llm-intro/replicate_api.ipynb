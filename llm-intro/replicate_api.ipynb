{
 "cells": [
  {
   "cell_type": "markdown",
   "metadata": {},
   "source": [
    "# Accessing Models via Replicate API\n",
    "\n",
    "Replicate let's you run any model (open source, our custom models) via API\n",
    "\n",
    "https://replicate.com/home"
   ]
  },
  {
   "cell_type": "markdown",
   "metadata": {},
   "source": [
    "## Colab Setup"
   ]
  },
  {
   "cell_type": "code",
   "execution_count": 1,
   "metadata": {},
   "outputs": [
    {
     "name": "stdout",
     "output_type": "stream",
     "text": [
      "NOT running in Colab\n"
     ]
    }
   ],
   "source": [
    "# are we running in Colab?\n",
    "import os\n",
    "\n",
    "if os.getenv(\"COLAB_RELEASE_TAG\"):\n",
    "   print(\"Running in Colab\")\n",
    "   RUNNING_IN_COLAB = True\n",
    "else:\n",
    "   print(\"NOT running in Colab\")\n",
    "   RUNNING_IN_COLAB = False\n",
    "\n",
    "if RUNNING_IN_COLAB:\n",
    "   ! pip install  --default-timeout=100   replicate   python-dotenv\n"
   ]
  },
  {
   "cell_type": "markdown",
   "metadata": {},
   "source": [
    "## Step-1: Load Settings"
   ]
  },
  {
   "cell_type": "code",
   "execution_count": 2,
   "metadata": {},
   "outputs": [
    {
     "name": "stdout",
     "output_type": "stream",
     "text": [
      "✅ config REPLICATE_API_TOKEN found\n"
     ]
    }
   ],
   "source": [
    "## Load Settings from .env file\n",
    "from dotenv import find_dotenv, dotenv_values\n",
    "\n",
    "# _ = load_dotenv(find_dotenv()) # read local .env file\n",
    "config = dotenv_values(find_dotenv())\n",
    "\n",
    "# debug\n",
    "# print (config)\n",
    "\n",
    "REPLICATE_API_TOKEN = config.get('REPLICATE_API_TOKEN')\n",
    "\n",
    "if  REPLICATE_API_TOKEN:\n",
    "    print (\"✅ config REPLICATE_API_TOKEN found\")\n",
    "else:\n",
    "    raise Exception (\"'❌ REPLICATE_API_TOKEN' is not set.  Please set it above to continue...\")\n"
   ]
  },
  {
   "cell_type": "markdown",
   "metadata": {},
   "source": [
    "## Initialize LLM\n",
    "\n",
    "### LLM Choices at Replicate\n",
    "\n",
    "- llama 3.1 : Latest\n",
    "    - **meta/meta-llama-3.1-405b-instruct** : Meta's flagship 405 billion parameter language model, fine-tuned for chat completions\n",
    "- Base version of llama-3 from meta\n",
    "    - [meta/meta-llama-3-8b](https://replicate.com/meta/meta-llama-3-8b) : Base version of Llama 3, an 8 billion parameter language model from Meta.\n",
    "    - **meta/meta-llama-3-70b** : 70 billion\n",
    "- Instruct versions of llama-3 from meta, fine tuned for chat completions\n",
    "    - **meta/meta-llama-3-8b-instruct** : An 8 billion parameter language model from Meta, \n",
    "    - **meta/meta-llama-3-70b-instruct** : 70 billion\n",
    "\n",
    "References \n",
    "\n",
    "- https://docs.llamaindex.ai/en/stable/examples/llm/llama_2/?h=replicate"
   ]
  },
  {
   "cell_type": "code",
   "execution_count": 11,
   "metadata": {},
   "outputs": [],
   "source": [
    "import os\n",
    "import replicate\n",
    "\n",
    "os.environ[\"REPLICATE_API_TOKEN\"] = REPLICATE_API_TOKEN\n",
    "LLM_MODEL = \"meta/meta-llama-3-8b-instruct\"\n",
    "\n",
    "## simple invocation\n",
    "def ask_LLM (question, model=LLM_MODEL):\n",
    "    output = replicate.run(\n",
    "        model,\n",
    "        input={\"prompt\": question}\n",
    "    )\n",
    "    return output\n",
    "    #return output[\"output\"][\"choices\"][0][\"text\"]"
   ]
  },
  {
   "cell_type": "code",
   "execution_count": 12,
   "metadata": {},
   "outputs": [
    {
     "data": {
      "text/plain": [
       "\"\\n\\nThe solar system! It's a fascinating topic, and I'd be happy to tell you all about it.\\n\\nThe solar system is a collection of celestial objects that orbit around our star, the Sun. It's a pretty big place, with eight planets, five officially recognized dwarf planets, numerous smaller bodies like asteroids and comets, and even some other objects that are still being studied.\\n\\nLet's start with the Sun, which is the center of our solar system. It's a huge ball of hot, glowing gas that provides light and heat to the planets. The Sun is actually a star, and it's what makes life on Earth possible.\\n\\nNow, let's talk about the planets. There are eight of them in our solar system, and they're all different from each other. Here's a quick rundown:\\n\\n1. Mercury: The closest planet to the Sun, Mercury is a small, rocky world that's really hot during the day and really cold at night.\\n2. Venus: The second planet from the Sun, Venus is also a rocky world, but it's covered in thick clouds of sulfuric acid and droplets of sulfuric acid.\\n3. Earth: This is our home planet, where we live! It's a terrestrial planet, meaning it's made up of rock and metal, and it's got a nice atmosphere that's perfect for life.\\n4. Mars: The Red Planet, Mars is a rocky world that's a lot like Earth, but it's much smaller and has a thin atmosphere.\\n5. Jupiter: The biggest planet in our solar system, Jupiter is a gas giant, meaning it's made up mostly of hydrogen and helium. It's got a huge storm system called the Great Red Spot, which has been raging for centuries.\\n6. Saturn: Another gas giant, Saturn is known for its beautiful rings, which are made up of ice and rock particles.\\n7. Uranus: An icy planet, Uranus is a bit of an oddball. It's tilted on its side, which means that sometimes its poles face the Sun.\\n8. Neptune: The farthest planet from the Sun, Neptune is also an icy world, and it's got a few moons of its own.\\n\\nNow, let's talk about the dwarf planets. These are smaller objects that orbit the Sun, but they haven't cleared their orbits of other objects. There are five officially recognized dwarf planets in our solar system:\\n\\n1. Pluto: A small, icy world that used to be considered the ninth planet, Pluto is now classified as\""
      ]
     },
     "execution_count": 12,
     "metadata": {},
     "output_type": "execute_result"
    }
   ],
   "source": [
    "output = ask_LLM (\"Tell me about the solar system\")\n",
    "\"\".join(output)"
   ]
  },
  {
   "cell_type": "code",
   "execution_count": 13,
   "metadata": {},
   "outputs": [],
   "source": [
    "## customize invocation\n",
    "\n",
    "def ask_LLM2(question, model=LLM_MODEL):\n",
    "    system_prompt = \"Human: You are a helpful AI assistant.\"\n",
    "    for event in replicate.stream(\n",
    "        model,\n",
    "        input={\n",
    "            \"top_k\": 1,\n",
    "            \"top_p\": 0.95,\n",
    "            \"prompt\": question,\n",
    "            \"max_tokens\": 256,\n",
    "            \"temperature\": 0.1,\n",
    "            \"system_prompt\": system_prompt,\n",
    "        },\n",
    "    ):\n",
    "        print(str(event), end=\"\")\n",
    "    ## ---\n",
    "    \n"
   ]
  },
  {
   "cell_type": "code",
   "execution_count": 14,
   "metadata": {},
   "outputs": [
    {
     "name": "stdout",
     "output_type": "stream",
     "text": [
      "\n",
      "\n",
      "Here is an example of how you can read a CSV file in Python using the `csv` module:\n",
      "```\n",
      "import csv\n",
      "\n",
      "# Open the CSV file\n",
      "with open('example.csv', 'r') as csvfile:\n",
      "    # Create a CSV reader object\n",
      "    reader = csv.reader(csvfile)\n",
      "    \n",
      "    # Read the CSV file row by row\n",
      "    for row in reader:\n",
      "        # Print each row\n",
      "        print(row)\n",
      "```\n",
      "This code opens a file called `example.csv` and reads it row by row using the `csv.reader` object. Each row is a list of values, and you can access each value by its index (e.g. `row[0]` would give you the first value in the row).\n",
      "\n",
      "You can also specify the delimiter and quotechar when creating the `csv.reader` object. For example:\n",
      "```\n",
      "reader = csv.reader(csvfile, delimiter=',', quotechar='\"')\n",
      "```\n",
      "This would tell the `csv.reader` object to use commas as the delimiter and double quotes as the quotechar.\n",
      "\n",
      "Alternatively, you can use the `pandas` library to read a CSV file. Here is an example:\n",
      "```\n",
      "import pandas as pd\n",
      "\n",
      "# Read the CSV file\n",
      "df = pd.read_csv('example.csv"
     ]
    }
   ],
   "source": [
    "ask_LLM2 ('Write python code to read a csv file')"
   ]
  }
 ],
 "metadata": {
  "kernelspec": {
   "display_name": "llm-workshop-2",
   "language": "python",
   "name": "python3"
  },
  "language_info": {
   "codemirror_mode": {
    "name": "ipython",
    "version": 3
   },
   "file_extension": ".py",
   "mimetype": "text/x-python",
   "name": "python",
   "nbconvert_exporter": "python",
   "pygments_lexer": "ipython3",
   "version": "3.11.10"
  }
 },
 "nbformat": 4,
 "nbformat_minor": 2
}
