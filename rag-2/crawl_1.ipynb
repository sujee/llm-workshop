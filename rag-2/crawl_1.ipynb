{
 "cells": [
  {
   "cell_type": "markdown",
   "metadata": {},
   "source": [
    "# Crawl a site"
   ]
  },
  {
   "cell_type": "code",
   "execution_count": 1,
   "metadata": {},
   "outputs": [],
   "source": [
    "import os\n",
    "import requests\n",
    "from humanfriendly import format_size\n",
    "\n",
    "\n",
    "def download_file(url, local_file, chunk_size=1024*1024):\n",
    "    \"\"\"\n",
    "    Downloads a remote URL to a local file.\n",
    "\n",
    "    Args:\n",
    "        url (str): The remote URL.\n",
    "        local_filename (str): The name of the local file to save the downloaded content.\n",
    "        chunk_size (int): The size in bytes of each chunk. Defaults to 1024.\n",
    "\n",
    "    Returns:\n",
    "        None\n",
    "        \n",
    "    Example usage:\n",
    "        download_file('http://example.com/file.txt', 'file.txt', chunk_size=1024*1024)  # Download in chunks of 1MB\n",
    "    \"\"\"\n",
    "    # Check if the local file already exists\n",
    "    if os.path.exists(local_file):\n",
    "        file_size = format_size(os.path.getsize(local_file))\n",
    "        print(f\"Local file '{local_file}' ({file_size}) already exists. Skipping download.\")\n",
    "        return\n",
    "\n",
    "    # Create the directory if it doesn't exist\n",
    "    os.makedirs(os.path.dirname(local_file), exist_ok=True)\n",
    "\n",
    "    # Stream the file download\n",
    "    with requests.get(url, stream=True) as r:\n",
    "        r.raise_for_status()\n",
    "        with open(local_file, 'wb') as f:\n",
    "            for chunk in r.iter_content(chunk_size=chunk_size):\n",
    "                if chunk: # filter out keep-alive new chunks\n",
    "                    f.write(chunk)\n",
    "        print()\n",
    "        file_size = format_size(os.path.getsize(local_file))\n",
    "        print(f\"{local_file} ({file_size}) downloaded successfully.\")\n",
    "## --- end: download_file ------\n",
    "\n"
   ]
  },
  {
   "cell_type": "markdown",
   "metadata": {},
   "source": [
    "## Step-1: Download a few pages"
   ]
  },
  {
   "cell_type": "code",
   "execution_count": 2,
   "metadata": {},
   "outputs": [],
   "source": [
    "urls = [\n",
    "    ('https://internet2.edu/cloud/cloud-learning-and-skills-sessions/developing-intelligent-applications-using-llms/', 'class-llm.html'),\n",
    "    ('https://internet2.edu/cloud/cloud-learning-and-skills-sessions/',  'class-cloud.html'), \n",
    "    ('https://internet2.edu/cloud/cloud-learning-and-skills-sessions/networking-in-the-cloud/', 'class-cloud.html'), \n",
    "    ]"
   ]
  },
  {
   "cell_type": "code",
   "execution_count": 3,
   "metadata": {},
   "outputs": [],
   "source": [
    "import os\n",
    "import shutil\n",
    "\n",
    "INPUT_DIR = 'input'\n",
    "\n",
    "shutil.os.makedirs(INPUT_DIR, exist_ok=True)\n"
   ]
  },
  {
   "cell_type": "code",
   "execution_count": 4,
   "metadata": {},
   "outputs": [
    {
     "name": "stdout",
     "output_type": "stream",
     "text": [
      "https://internet2.edu/cloud/cloud-learning-and-skills-sessions/developing-intelligent-applications-using-llms/ --> input/class-llm.html\n",
      "Local file 'input/class-llm.html' (106.96 KB) already exists. Skipping download.\n",
      "https://internet2.edu/cloud/cloud-learning-and-skills-sessions/ --> input/class-cloud.html\n",
      "Local file 'input/class-cloud.html' (126.39 KB) already exists. Skipping download.\n",
      "https://internet2.edu/cloud/cloud-learning-and-skills-sessions/networking-in-the-cloud/ --> input/class-cloud.html\n",
      "Local file 'input/class-cloud.html' (126.39 KB) already exists. Skipping download.\n"
     ]
    }
   ],
   "source": [
    "import os \n",
    "\n",
    "for url, file in urls:\n",
    "    local_file = os.path.join(INPUT_DIR, file)\n",
    "    print (url , '-->', local_file )\n",
    "    download_file(url, local_file)"
   ]
  }
 ],
 "metadata": {
  "kernelspec": {
   "display_name": "llm-workshop-2",
   "language": "python",
   "name": "python3"
  },
  "language_info": {
   "codemirror_mode": {
    "name": "ipython",
    "version": 3
   },
   "file_extension": ".py",
   "mimetype": "text/x-python",
   "name": "python",
   "nbconvert_exporter": "python",
   "pygments_lexer": "ipython3",
   "version": "3.11.10"
  }
 },
 "nbformat": 4,
 "nbformat_minor": 2
}
