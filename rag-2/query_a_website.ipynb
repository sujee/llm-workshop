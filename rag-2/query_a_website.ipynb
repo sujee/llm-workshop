{
 "cells": [
  {
   "cell_type": "markdown",
   "metadata": {},
   "source": [
    "# Download A Website\n",
    "\n",
    "This notebook will download a few HTML pages and save them locally\n",
    "\n",
    "**Note:** By default Llama-index uses OPENAI embeddings and LLMs.  Here we are experimenting with Llama@Replicate vs OpenAI\n",
    "\n",
    "References\n",
    "\n",
    "- a good example : https://docs.llamaindex.ai/en/stable/examples/index_structs/doc_summary/DocSummary/"
   ]
  },
  {
   "cell_type": "markdown",
   "metadata": {},
   "source": [
    "## Step-1: Configuration"
   ]
  },
  {
   "cell_type": "code",
   "execution_count": 1,
   "metadata": {},
   "outputs": [
    {
     "name": "stderr",
     "output_type": "stream",
     "text": [
      "/home/sujee/apps/anaconda3/envs/llm-workshop-2/lib/python3.11/site-packages/tqdm/auto.py:21: TqdmWarning: IProgress not found. Please update jupyter and ipywidgets. See https://ipywidgets.readthedocs.io/en/stable/user_install.html\n",
      "  from .autonotebook import tqdm as notebook_tqdm\n"
     ]
    }
   ],
   "source": [
    "# If connection to https://huggingface.co/ failed, uncomment the following path\n",
    "import os\n",
    "from llama_index.embeddings.huggingface import HuggingFaceEmbedding\n",
    "from llama_index.core import Settings\n",
    "\n",
    "os.environ['HF_ENDPOINT'] = 'https://hf-mirror.com'\n",
    "\n",
    "Settings.embed_model = HuggingFaceEmbedding(\n",
    "    # model_name = 'sentence-transformers/all-MiniLM-L6-v2'\n",
    "    model_name = 'BAAI/bge-small-en-v1.5'\n",
    ")"
   ]
  },
  {
   "cell_type": "code",
   "execution_count": 2,
   "metadata": {},
   "outputs": [],
   "source": [
    "import os,sys\n",
    "## Load Settings from .env file\n",
    "from dotenv import find_dotenv, load_dotenv\n",
    "\n",
    "_ = load_dotenv(find_dotenv()) # read local .env file\n"
   ]
  },
  {
   "cell_type": "markdown",
   "metadata": {},
   "source": [
    "### Setting an LLM\n",
    "\n",
    "We have 2 choices\n",
    "\n",
    "1. Llama at Replicate\n",
    "2. Open AI (default)\n",
    "\n",
    "Try them both and see which one gives you better answers."
   ]
  },
  {
   "cell_type": "code",
   "execution_count": 3,
   "metadata": {},
   "outputs": [],
   "source": [
    "## Setting LLAMA at replicate as LLM\n",
    "\n",
    "from llama_index.llms.replicate import Replicate\n",
    "from llama_index.core import Settings\n",
    "\n",
    "llm = Replicate(\n",
    "    # model= \"meta/meta-llama-3-8b-instruct\",\n",
    "    model= \"meta/meta-llama-3-70b-instruct\",\n",
    "    # model= \"meta/meta-llama-3.1-405b-instruct\",\n",
    "    temperature=0.1\n",
    ")\n",
    "\n",
    "Settings.llm = llm"
   ]
  },
  {
   "cell_type": "code",
   "execution_count": 4,
   "metadata": {},
   "outputs": [],
   "source": [
    "## Setting OpenAI as LLM - we need openAI key\n",
    "\n",
    "# from llama_index.core import Settings\n",
    "# from llama_index.llms.openai import OpenAI\n",
    "\n",
    "# # llm = OpenAI(model=\"gpt-3.5-turbo\", temperature=0.1)\n",
    "# llm = OpenAI(model=\"gpt-4o\", temperature=0.1)\n",
    "\n",
    "# Settings.llm = llm\n"
   ]
  },
  {
   "cell_type": "code",
   "execution_count": 5,
   "metadata": {},
   "outputs": [
    {
     "name": "stdout",
     "output_type": "stream",
     "text": [
      "Loaded documents :  3\n"
     ]
    }
   ],
   "source": [
    "## We will use llama-index-web-reader\n",
    "\n",
    "from llama_index.readers.web import SimpleWebPageReader\n",
    "\n",
    "urls = [\n",
    "    'https://internet2.edu/cloud/cloud-learning-and-skills-sessions/developing-intelligent-applications-using-llms/',\n",
    "    'https://internet2.edu/cloud/cloud-learning-and-skills-sessions/',  \n",
    "    'https://internet2.edu/cloud/cloud-learning-and-skills-sessions/networking-in-the-cloud/', \n",
    "    ]\n",
    "\n",
    "documents = SimpleWebPageReader(html_to_text=True).load_data(\n",
    "    urls\n",
    ")\n",
    "\n",
    "print ('Loaded documents : ', len(documents))"
   ]
  },
  {
   "cell_type": "code",
   "execution_count": 6,
   "metadata": {},
   "outputs": [
    {
     "name": "stdout",
     "output_type": "stream",
     "text": [
      "Document(id_='https://internet2.edu/cloud/cloud-learning-and-skills-sessions/developing-intelligent-applications-using-llms/', embedding=None, metadata={}, excluded_embed_metadata_keys=[], excluded_llm_metadata_keys=[], relationships={}, text=\"Skip to content\\n\\n[ Return Home ![Internet2 logo](https://internet2.edu/wp-\\ncontent/uploads/2024/06/I2-clr.svg) ](https://internet2.edu) ![](/wp-\\ncontent/themes/fas-base/assets/images/icon-menu.svg)\\n\\n  * Explore \\n\\n#### Connecting Research and Education\\n\\nInternet2 provides:\\n\\n    * [ a secure high-speed network](/network)\\n    * [cloud solutions](/cloud)\\n    * [research support](/community/research-engagement/)\\n    * [services](/services) for the research and education [community](/community)\\n\\n[Learn more about Internet2](https://internet2.edu/community/about-us/)\\n\\n#####  [About Internet2](https://internet2.edu/community/about-us/)\\n\\nGet to know our history, our commitment, our community.\\n\\n#####  [Our Members](https://internet2.edu/community/membership/)\\n\\nInternet2 members work together to advance our research and education needs.\\n\\n#####  [Our Events](https://internet2.edu/events/)\\n\\nJoin us for community events, webinars, workshops, and training sessions.\\n\\n#####  [Our Services](https://internet2.edu/services/)\\n\\nServices, software, and applications you can trust.\\n\\n#####  [Our Network](https://internet2.edu/network/)\\n\\nThe nation’s largest and fastest research and education network.\\n\\n#####  [Internet2 Roadmap](https://internet2.edu/roadmap/)\\n\\nThe Roadmap reflects stakeholders’ commitment to strengthening Internet2’s\\nservices, solutions, and capabilities.\\n\\n  * Our Services \\n\\n    * Featured Services\\n    * NET+ Cloud Services\\n    * Network Services\\n    * InCommon Services\\n[View All Services](https://internet2.edu/services/)\\n\\n#### Featured Services\\n\\n[View All Featured Services](https://internet2.edu/services/#featured)\\n\\n#####  [Amazon Web Services (AWS)](https://internet2.edu/services/amazon-web-\\nservices/)\\n\\nCampus enterprise access to AWS.\\n\\n#####  [Canvas](https://internet2.edu/services/canvas/)\\n\\nStreamlines digital tools and content that teachers and students love.\\n\\n#####  [Cloud Connect](https://internet2.edu/services/cloud-connect/)\\n\\nDedicated network connections to cloud providers.\\n\\n#####  [Echo Labs](https://internet2.edu/services/echo-labs/)\\n\\nA suite of artificial intelligence solutions.\\n\\n#####  [eduroam](https://internet2.edu/services/eduroam/)\\n\\nSecure, worldwide roaming wireless service.\\n\\n#####  [ServiceNow](https://internet2.edu/services/servicenow/)\\n\\nGain end-to-end visibility with advanced features like AI-driven insights and\\nautomation.\\n\\n#### NET+ Cloud Services\\n\\n[View All NET+ Cloud Services](https://internet2.edu/services/#net-plus-cloud-\\nservices)\\n\\n#####  [Amazon Web Services](https://internet2.edu/services/amazon-web-\\nservices/)\\n\\nCampus enterprise access to AWS.\\n\\n#####  [Canvas](https://internet2.edu/services/canvas/)\\n\\nStreamlines digital tools and content that teachers and students love.\\n\\n#####  [Echo Labs](https://internet2.edu/services/echo-labs/)\\n\\nOffers higher education institutions a suite of artificial intelligence\\nsolutions.\\n\\n#####  [Google Cloud](https://internet2.edu/services/google-cloud-platform/)\\n\\nCloud solutions developed with the Internet2 member community.\\n\\n#####  [LabArchives](https://internet2.edu/services/labarchives/)\\n\\nStore, organize, share, and publish laboratory data.\\n\\n#####  [ServiceNow](https://internet2.edu/services/servicenow/)\\n\\nProvides end‑to‑end visibility into processes and infrastructure.\\n\\n#### Network Services\\n\\n[View All Network Services](https://internet2.edu/services/#network-solutions)\\n\\n#####  [Amazon Web Services Direct\\nConnect](https://internet2.edu/services/amazon-web-services-aws-direct-\\nconnect/)\\n\\nReach AWS Direct Connect using Cloud Connect, leveraging Internet2 and your\\nregional’s infrastructure.\\n\\n#####  [Cloud Connect](https://internet2.edu/services/cloud-connect/)\\n\\nUse Internet2 and your regional network’s infrastructure to access and use\\ncloud resources.\\n\\n#####  [DDoS Volumetric Mitigation\\nService](https://internet2.edu/services/ddos-volumetric-mitigation-service/)\\n\\nCloud-based volumetric service is procured on behalf of the community from\\nRadware.\\n\\n#####  [Layer 1 Service](https://internet2.edu/services/layer-1/)\\n\\nOffers the most specialized and cost-effective way to build a custom, high-\\ncapacity network.\\n\\n#####  [Layer 2 Service](https://internet2.edu/services/layer-2-service/)\\n\\nDelivers a strategic advantage providing effective and efficient 100 gigabit\\nEthernet technology.\\n\\n#####  [Rapid Private Interconnect\\n(RPI)](https://internet2.edu/services/rapid-private-interconnect-rpi/)\\n\\nProvides dedicated access to any vendor-provided service at four national\\npeering locations.\\n\\n#### InCommon Services\\n\\n[View all InCommon Services](https://internet2.edu/services/#incommon-\\nsolutions)\\n\\n#####  [eduroam](https://internet2.edu/services/eduroam/)\\n\\nGet seamless access to global roaming Wi-Fi.\\n\\n#####  [InCommon Federation](https://internet2.edu/services/incommon-\\nfederation/)\\n\\nProvides secure single sign-on access to cloud and local services, and global\\ncollaboration tools.\\n\\n#####  [InCommon Trusted Access Platform](https://incommon.org/trusted-\\naccess/)\\n\\nAn identity and access management suite of software designed to integrate with\\nexisting systems.\\n\\n#####  [InCommon Catalyst Program](https://incommon.org/community/catalyst/)\\n\\nThe InCommon Catalysts can fill the gaps in your IAM program.\\n\\n#####  [InCommon Academy](https://internet2.edu/services/incommon-academy/)\\n\\nFrom expert-led component training to implementation support, we provide the\\nresources you need.\\n\\n#####  [InCommon Certificate Service](https://internet2.edu/services/incommon-\\ncertificate-service/)\\n\\nUnlimited server and user certificates for one annual fee, covering all of\\nyour domains.\\n\\n  * Our Community \\n\\n#### Connect, Share, Grow\\n\\nOur community includes collaborators from across the street and around the\\nglobe.\\n\\n[Get to Know Our Community](https://internet2.edu/community/)\\n\\n#####  [About Us](https://internet2.edu/community/about-us/)\\n\\nWe work with our community to solve technology challenges and develop\\nsolutions to advance research.\\n\\n#####  [Membership](https://internet2.edu/community/membership/)\\n\\nOur membership opens the door to an active community that accelerates research\\nand discovery.\\n\\n#####  [Careers](https://internet2.edu/community/careers/)\\n\\nJoin our team! View career opportunities at Internet2.\\n\\n#####  [Solutions](https://internet2.edu/solutions/solutions-landing/)\\n\\nLet us help you with with network connections, cloud services, and identity\\nand access management.\\n\\n#####  [Research Engagement](https://internet2.edu/community/research-\\nengagement/)\\n\\nWe help researchers connect with a full spectrum of support services and\\ntechnology.\\n\\n#####  [The Internet2 Inclusivity Initiative (I2I)\\n](https://internet2.edu/community/internet2-inclusivity-initiative/)\\n\\nI2I focuses on resources, attention, and scholarships to improve diversity and\\ninclusion.\\n\\n  * News \\n\\n#### Get the Latest\\n\\nDon't miss out on the latest Internet2 blog posts, videos, event highlights,\\nand more.\\n\\n[Internet2 News and Videos](https://internet2.edu/news/)\\n\\n#####  [Network: Routing Integrity](https://internet2.edu/network/initiatives-\\npartnerships/routing-integrity/)\\n\\nEach of us protecting all of us.\\n\\n#####  [Videos](https://internet2.edu/internet2-videos/)\\n\\nWatch Internet2 videos highlighting our community events and webinars.\\n\\n#####  [Cloud: Essential Cloud Training](https://internet2.edu/cloud/cloud-\\nlearning-and-skills-sessions/)\\n\\nSign up for upcoming Cloud Learning and Skills Sessions (CLASS).\\n\\n#####  [InCommon: InCommon Futures2\\nReport](https://www2.internet2.edu/l/66332/2024-03-01/n3ngky/66332/1709744732IZF0Q9ke/InCommonFutures2_Strategy_Report_March2024.pdfMarch2024.pdf?_gl=1*1uyvwys*_ga*MTExNjY0NDY5Mi4xNjc2OTIzNjQ2*_ga_GY7HRD6PTP*MTcyMzgzNDYyNy4xMjYxLjEuMTcyMzgzOTEwOS44LjAuMA..)\\n\\nLearn how InCommon will continue to lead as an authority in IAM.\\n\\n#####  [Community: Internet2 Roadmap](https://internet2.edu/roadmap/)\\n\\nThe Roadmap reflects stakeholders’ commitment to our services and solutions.\\n\\n#####  [Community: Minority Serving Cyberinfrastructure Consortium (MS-\\nCC)](https://ms-cc.org)\\n\\nStay current with all of the MS-CC community activity.\\n\\n  * Events \\n\\n#### Convening the Community\\n\\nJoin us for community events, webinars, workshops, and training sessions.\\n\\n[Internet2 Events](https://internet2.edu/events/)\\n\\n#####\\n[TechEX24](https://events.internet2.edu/techex24?_gl=1*vjes7j*_ga*MTExNjY0NDY5Mi4xNjc2OTIzNjQ2*_ga_GY7HRD6PTP*MTcyNTM3OTMzMC4xMzIzLjEuMTcyNTM4MDUwMS4yNC4wLjA.)\\n\\nJoin us for the 2024 Internet2 Technology Exchange on Dec. 9-13 in Boston.\\n\\n#####\\n[CommEX25](https://events.internet2.edu/website/76216/?_gl=1*10gs8v5*_ga*MTExNjY0NDY5Mi4xNjc2OTIzNjQ2*_ga_GY7HRD6PTP*MTcyNTM3OTMzMC4xMzIzLjEuMTcyNTM4MDkzOC42MC4wLjA.)\\n\\nThe Internet2 2025 Community Exchange is slated for April 28-May 1 in Anaheim,\\nCalif.\\n\\n#####  [Cloud Learning and Skills Sessions\\n(CLASS)](https://internet2.edu/cloud/cloud-learning-and-skills-sessions/)\\n\\nJoin us for in-depth cloud training and workshops.\\n\\n#####  [Shibboleth Software\\nTraining](https://incommon.org/academy/shibboleth/)\\n\\nLearn how to deploy, configure, and manage Shibboleth software.\\n\\n#####  [Developing Intelligent Applications Using\\nLLMs](https://internet2.edu/cloud/cloud-learning-and-skills-\\nsessions/developing-intelligent-applications-using-llms/)\\n\\nAn introduction to LLMs and data augmentation using Retrieval Generation\\nAugmentation.\\n\\n#####  [Networking in the Cloud](https://internet2.edu/cloud/cloud-learning-\\nand-skills-sessions/networking-in-the-cloud/)\\n\\nUtilize Cloud Connect to build connectivity between cloud providers.\\n\\n  * Contact \\n\\n####  Get in Touch\\n\\nHave a question? Need help? Reach out!\\n\\n[Contact Us](https://internet2.edu/contact-us/)\\n\\n#####  [Network Support](https://sn-tools.grnoc.iu.edu/internet2-request/)\\n\\nFill out a form for non-urgent network support.\\n\\n#####  [Network Operations\\nCenter](https://noc.net.internet2.edu/help/index.html)\\n\\nFor urgent requests, reach the Global Network Operations Center 24 hours a\\nday, 365 days a year.\\n\\n#####  [Other Internet2 Support](https://internet2.edu/contact-us/)\\n\\nPlease use our form if you need support for other Internet2 services.\\n\\n#####  [Internet2 Offices ](https://internet2.edu/contact-\\nus/internet2-offices/)\\n\\nInternet2 has offices in three locations throughout the United States.\\n\\n#####  [Sign Up for Communications](https://internet2.edu/community/about-\\nus/media-resources/internet2-communications-management/)\\n\\nSign up for a newsletter and stay current on the latest community news.\\n\\n#####  [Media Resources](https://internet2.edu/community/about-us/media-\\nresources/)\\n\\nAccess Internet2 fact sheets, network maps, logos, and more.\\n\\n  * Search\\n\\nClose Search Search\\n\\n[ ](https://internet2.edu) / [cloud](/cloud) / [class: Cloud Learning and\\nSkills Sessions](https://internet2.edu/cloud/cloud-learning-and-skills-\\nsessions/) / Developing Intelligent Applications Using LLMs\\n\\n# Developing Intelligent Systems with LLMs and RAG\\n\\nBuild web-based applications that integrate LLMs.\\n\\n[ Register Today ](https://events.internet2.edu/developrag)\\n\\n![polygon graphic](https://internet2.edu/wp-\\ncontent/uploads/2024/10/poly_network.png)\\n\\npoly_network\\n\\nCLASS\\n\\nWorkshop Information Workshop Overview Workshop Details [ CLASS Events\\n](https://internet2.edu/cloud/cloud-learning-and-skills-sessions/class-events-\\nschedule/) [ Register Today ](https://events.internet2.edu/developrag)\\n\\n## Workshop Information\\n\\n  * **Title:** Developing a Web-based Q&A system using a RAG-based approach to LLMs\\n  * **Instructor:**[Sujee Maniyam, Node 51](https://www.mongodb.com/developer/author/sujee-maniyam/)\\n  * **Time:** October 9, 2024; 11 a.m. - 5 p.m. ET\\n  * **Duration** : 6 hours\\n  * **Cost:** $300 for NET+ AWS and GCP Subscribers; $400 for Internet2 members; $500 for non-members\\n  * **Delivery:** Virtual via Zoom\\n  * **Registration:** [Register](https://events.internet2.edu/developrag)\\n\\n![Sujee Maniyam smiling for a photo](http://internet2.edu/wp-\\ncontent/uploads/2023/08/c-Sujee-Maniyam.jpg)\\n\\n## Workshop Overview\\n\\nLarge Language Models (LLMs) are reshaping how we approach knowledge\\ndiscovery, data processing, and personalized learning. This course is designed\\nspecifically for research and higher education professionals interested in\\nharnessing AI's power to improve teaching and learning and advance\\ninstitutional innovation.\\n\\nParticipants will explore the core principles behind LLMs and Retrieval\\nAugmented Generation (RAG), gain hands-on experience building AI-driven tools,\\nand learn how to scale these applications using cloud platforms. By the end of\\nthis course, you’ll be able to create intelligent applications that accelerate\\nresearch, personalize education, and leverage real-time data—all while staying\\naligned with the latest AI and cloud trends.\\n\\n**Skill Level and Target Audience**\\n\\n  * Introductory to Intermediate\\n  * Research IT, Enterprise IT\\n\\n**Workshop Objectives**\\n\\n  * Learn how to use embeddings to search for meanings and context within text and explore different embedding models.\\n  * Understand how to perform text searches using vector databases that leverage embeddings for efficient information retrieval.\\n  * Discover what Large Language Models (LLMs) are and how to use them via APIs or locally deployed instances.\\n  * Gain hands-on experience building applications integrating LLMs for text generation and natural language understanding tasks.\\n  * Create Retrieval-Augmented Generation (RAG) applications that combine real-time data retrieval with LLM-driven text generation.\\n  * Learn how to containerize and deploy your AI-driven applications for scalability and efficient distribution across different environments.\\n\\n**About the Instructor**\\n\\nSujee Maniyam is a hands-on AI practitioner, speaker, and educator who is\\npassionate about making complex AI accessible to everyone. As a co-founder of\\nElephant Scale and a seasoned practitioner, Sujee has extensive experience\\ndeploying AI-driven solutions at scale, making him uniquely qualified to guide\\nlearners through building intelligent applications using large language models\\n(LLMs).\\n\\n## Workshop Details\\n\\n  * 1\\\\. Embeddings \\n\\n    * Understanding embeddings allows models to understand relationships for tasks like text similarity, clustering, and classification. \\n    * Embedding models to generate vectors is helpful for tasks like search and recommendation.\\n    * Semantic text search using embeddings.\\n    * Evaluating embedding models (e.g., BERT vs. Word2Vec, etc.) to assess accuracy, speed, and their ability to capture contextual or domain-specific meanings.\\n\\n  * 2\\\\. Vector Databases \\n\\n    * Introduction to vector databases\\n    * Getting started with MongoDB Atlas\\n    * Loading data into databases and populating embeddings\\n    * Vector search with databases and embeddings\\n\\n  * 3\\\\. LLMs \\n\\n    * Introduction to LLMs\\n    * Access LLMs via APIs\\n      * Utilize APIs from platforms like OpenAI or Hugging Face to easily integrate and interact with pre-trained LLMs in your applications without complex setups.\\n    * Run LLMs locally using llama-cpp, oolama, lm-studio, jen, etc. \\n      * Learn how to deploy LLMs on your local machine using frameworks such as llama-cpp, oolama, lm-studio, and jen to reduce cloud reliance and increase control over your models.\\n    * Experiment with different LLMs\\n      * Explore and compare open-source LLMs to understand their performance, features, and suitability for specific tasks or environments.\\n\\n  * 4\\\\. Running LLMs \\n\\n    * Leverage specialized frameworks for seamless local LLM integration \\n      * By using tools like llama-cpp, llama-index, and Langchain, you can efficiently load, manage, and query Large Language Models (LLMs) on local machines.\\n    * Deploy LLMs on your local environment for faster, private AI processing\\n    * Test and compare different open-source LLMs to find the best fit for your project\\n      * Experimenting with models like Mistral, Llama, and others allows you to evaluate their performance in text generation, summarization, and question-answering tasks.\\n\\n  * 5\\\\. Develop a custom application using LLM \\n\\n    * Integrate LLM capabilities into your application by using pre-trained models like GPT to add features customized for your specific use case, such as natural language understanding, text generation, or summarization.\\n    * Leverage frameworks like Streamlit and Flask\\n      * Quickly build and deploy interactive web applications with minimal coding, allowing real-time interactions with your LLM-powered features. \\n    * Prototyping and scaling\\n      * Use these frameworks to create sample applications for testing and showcasing AI functionality, then scale them up for broader use in academic, research, or business environments, incorporating LLM-driven insights into everyday tasks.\\n\\n  * 6\\\\. Building RAG Applications \\n\\n    * Query PDF documents using LLMs\\n      * Utilize LLMs to process and query the content of PDF documents, extracting relevant information and insights through natural language queries.\\n    * Index documents with embeddings\\n      * Create embeddings for documents, turning their content into searchable vectors that capture the semantic meaning for efficient querying.\\n    * Use various embedding models (OpenAI, Mistral, open source models)\\n      * Leverage different embedding models from providers like OpenAI, Mistral, and other open-source options to convert documents into vector representations.\\n    * Query the documents using various LLMs (OpenAI, Mistral, LLama)\\n      * Employ LLMs such as OpenAI’s GPT, Mistral, or LLama to interpret and respond to user queries, retrieving relevant sections from indexed documents.\\n\\n  * 7\\\\. Deploying RAG Applications \\n\\n    * Set up and run Retrieval-Augmented Generation (RAG) applications to combine real-time data retrieval with LLM-powered text generation for more accurate, context-aware outputs.\\n    * Use containerization tools like Docker to package your RAG application, ensuring consistency, portability, and ease of deployment across different environments.\\n    * Efficiently serve your LLMs or RAG models via APIs or frameworks, enabling real-time access and interactions with the models in your application.\\n    * Implement strategies like load balancing, distributed computing, and auto-scaling to ensure your application can handle increased demand while maintaining performance.\\n\\n  * 8\\\\. Workshop / Project \\n\\n    * Design an AI-powered tool tailored to your institution’s needs, such as an intelligent research assistant or personalized learning platform.\\n\\n  \\n\\n## If you have further questions, please contact us.\\n\\n[ Contact Us ](mailto:class@internet2.edu)\\n\\n  \\n  \\n\\n[ ![Internet2 logo](https://internet2.edu/wp-\\ncontent/uploads/2020/01/internet2-white.png) ](https://internet2.edu)\\n\\n### Follow Us:\\n\\n  * [Facebook ](https://www.facebook.com/Internet2social)\\n  * [Instagram ](https://www.instagram.com/internet2social/)\\n  * [LinkedIn ](https://www.linkedin.com/company/internet2/?viewAsMember=true)\\n  * [YouTube ](https://www.youtube.com/channel/UC6gxuEGpxW07lUFD0IEpRQA)\\n\\n  * [About Us](/community/about-us/)\\n    * [Membership](/community/about-us/membership/)\\n    * [News](/news)\\n    * [Executive Leadership](/community/about-us/executive-leadership)\\n    * [Media Resources](/community/about-us/media-resources/)\\n    * [Careers](/community/careers/)\\n    * [Policies](/community/about-us/policies/)\\n    * [Help](/contact-us/)\\n  * [Network](/network/)\\n    * [Networking for Cloud](/network/networking-cloud/)\\n    * [Operations and Support](/network/operations-and-support)\\n    * [State and Regional R&E; Networks](/network/state-and-regional-r-e-networks/)\\n  * [Security](/security/)\\n    * [Security Cloud Services](/security/security-cloud-services/)\\n    * [Performance & Analytics Tools](/security/performance-analytics/)\\n    * [Identity and Access Management](https://internet2.edu/security/identity-and-access-management/)\\n  * [Cloud](/cloud/)\\n    * [NET+ Cloud Services](/cloud/internet2-net-plus-services/)\\n    * [Cloud Connect](/services/cloud-connect/)\\n    * [Cloud Scorecard](/cloud/internet2-net-plus-services/cloud-scorecard/)\\n    * [Cloud Learning and Skills Sessions (CLASS)](/cloud/cloud-learning-and-skills-sessions/)\\n  * [Community](/community/)\\n    * [Research Engagement](/community/research-engagement/)\\n    * [Community Groups](/community/community-group-list/)\\n    * [Community Anchor Program](/community/community-anchor-program/)\\n\\n  * (C) 2024 Internet2\\n  * [Privacy Policy](/community/about-us/policies/privacy/)\\n  * [Terms of Use](/community/about-us/policies/terms-of-use/)\\n  * [Sitemap](https://internet2.edu/sitemap_index.xml)\\n  * [Site Design by FIREANT STUDIO](https://fireantstudio.com/)\\n\\n\", mimetype='text/plain', start_char_idx=None, end_char_idx=None, text_template='{metadata_str}\\n\\n{content}', metadata_template='{key}: {value}', metadata_seperator='\\n')\n"
     ]
    }
   ],
   "source": [
    "import pprint \n",
    "\n",
    "pprint.pprint (documents[0])"
   ]
  },
  {
   "cell_type": "markdown",
   "metadata": {},
   "source": [
    "## Step-3: Create Index"
   ]
  },
  {
   "cell_type": "code",
   "execution_count": 7,
   "metadata": {},
   "outputs": [],
   "source": [
    "from llama_index.core import SummaryIndex\n",
    "\n",
    "index = SummaryIndex.from_documents(documents)"
   ]
  },
  {
   "cell_type": "markdown",
   "metadata": {},
   "source": [
    "## Step-4: Queries"
   ]
  },
  {
   "cell_type": "code",
   "execution_count": 8,
   "metadata": {},
   "outputs": [],
   "source": [
    "# set Logging to DEBUG for more detailed outputs\n",
    "query_engine = index.as_query_engine()"
   ]
  },
  {
   "cell_type": "code",
   "execution_count": 9,
   "metadata": {},
   "outputs": [
    {
     "name": "stdout",
     "output_type": "stream",
     "text": [
      "\n",
      "\n",
      "The instructor of the \"Networking in the Cloud\" class is Scott Taylor, Internet2 Network Services.\n"
     ]
    }
   ],
   "source": [
    "\n",
    "response = query_engine.query(\"Who is teaching the 'Networking in the Cloud' class?\")\n",
    "\n",
    "print (response)"
   ]
  },
  {
   "cell_type": "code",
   "execution_count": 10,
   "metadata": {},
   "outputs": [
    {
     "name": "stdout",
     "output_type": "stream",
     "text": [
      "\n",
      "\n",
      "The original answer is still accurate, but it's not related to the provided context. The context appears to be about Internet2, a non-profit organization that provides networking and cloud services to the research and education community. It does not mention Sujee Maniyam or the specific workshop \"Developing Intelligent Systems with LLMs and RAG\".\n",
      "\n",
      "Therefore, the refined answer remains the same as the original answer:\n",
      "\n",
      "Sujee Maniyam is teaching the class on October 9, 2024, from 11 a.m. to 5 p.m. ET, specifically the \"Developing Intelligent Systems with LLMs and RAG\" workshop.\n"
     ]
    }
   ],
   "source": [
    "response = query_engine.query(\"When is Sujee Maniyam teaching the class?\")\n",
    "\n",
    "print (response)"
   ]
  },
  {
   "cell_type": "code",
   "execution_count": 11,
   "metadata": {},
   "outputs": [
    {
     "name": "stdout",
     "output_type": "stream",
     "text": [
      "\n",
      "\n",
      "The class \"Developing Intelligent Systems with LLMs and RAG\" is scheduled for October 9, 2024, from 11 a.m. to 5 p.m. ET. Additionally, there are other classes and events available, such as \"Networking in the Cloud\" on November 7, 2024, from 11 a.m. to 2 p.m. ET, and \"Developing Intelligent Applications Using LLMs\" with no specific date mentioned. You can find more information about these classes and events on the Internet2 website.\n"
     ]
    }
   ],
   "source": [
    "response = query_engine.query(\"When are the classes scheduled?\")\n",
    "print(response)"
   ]
  }
 ],
 "metadata": {
  "kernelspec": {
   "display_name": "llm-workshop-2",
   "language": "python",
   "name": "python3"
  },
  "language_info": {
   "codemirror_mode": {
    "name": "ipython",
    "version": 3
   },
   "file_extension": ".py",
   "mimetype": "text/x-python",
   "name": "python",
   "nbconvert_exporter": "python",
   "pygments_lexer": "ipython3",
   "version": "3.11.10"
  }
 },
 "nbformat": 4,
 "nbformat_minor": 2
}
